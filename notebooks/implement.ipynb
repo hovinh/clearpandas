{
 "cells": [
  {
   "cell_type": "code",
   "execution_count": 1,
   "id": "3dd9c279",
   "metadata": {},
   "outputs": [],
   "source": [
    "import os\n",
    "os.chdir('..')"
   ]
  },
  {
   "cell_type": "code",
   "execution_count": 2,
   "id": "5b814e47",
   "metadata": {},
   "outputs": [],
   "source": [
    "from clearpandas.pipeline.data_engineering import DataEngineeringPipeline\n",
    "de_pipeline = DataEngineeringPipeline()\n",
    "de_pipeline.execute()"
   ]
  },
  {
   "cell_type": "code",
   "execution_count": 3,
   "id": "1a78c515",
   "metadata": {},
   "outputs": [
    {
     "name": "stdout",
     "output_type": "stream",
     "text": [
      "Table: customers | Shape: (1329, 8)\n",
      "   c_custkey              c_name                             c_address  \\\n",
      "0          1  Customer#000000001                     j5JsirBM9PsCy0O1m   \n",
      "1          3  Customer#000000003                          fkRGN8nY4pkE   \n",
      "2          4  Customer#000000004                           4u58h fqkyE   \n",
      "3          5  Customer#000000005          hwBtxkoBF qSW4KrIk5U 2B1AU7H   \n",
      "4          6  Customer#000000006   g1s,pzDenUEBW3O,2 pxu0f9n2g64rJrt5E   \n",
      "\n",
      "   c_nationkey          c_phone  c_acctbal c_mktsegment  \\\n",
      "0           15  25-989-741-2988     711.56     BUILDING   \n",
      "1            1  11-719-748-3364    7498.12   AUTOMOBILE   \n",
      "2            4  14-128-190-5944    2866.83    MACHINERY   \n",
      "3            3  13-750-942-6364     794.47    HOUSEHOLD   \n",
      "4           20  30-114-968-4951    7638.57   AUTOMOBILE   \n",
      "\n",
      "                                           c_comment  \n",
      "0  y final requests wake slyly quickly special ac...  \n",
      "1  fully. carefully silent instructions sleep alo...  \n",
      "2   sublate. fluffily even instructions are about th  \n",
      "3  equests haggle furiously against the pending p...  \n",
      "4   quickly silent asymptotes are slyly regular e...  \n",
      "\n",
      "\n",
      "Table: orders | Shape: (15000, 9)\n",
      "   o_orderkey  o_custkey o_orderstatus  o_totalprice o_orderdate  \\\n",
      "0           1        370             O     172799.49  1996-01-02   \n",
      "1           2        781             O      38426.09  1996-12-01   \n",
      "2           3       1234             F     205654.30  1993-10-14   \n",
      "3           4       1369             O      56000.91  1995-10-11   \n",
      "4           5        445             F     105367.67  1994-07-30   \n",
      "\n",
      "  o_orderpriority          o_clerk  o_shippriority  \\\n",
      "0           5-LOW  Clerk#000000951               0   \n",
      "1        1-URGENT  Clerk#000000880               0   \n",
      "2           5-LOW  Clerk#000000955               0   \n",
      "3           5-LOW  Clerk#000000124               0   \n",
      "4           5-LOW  Clerk#000000925               0   \n",
      "\n",
      "                                           o_comment  \n",
      "0                 ly express platelets. deposits acc  \n",
      "1  ve the furiously fluffy dependencies. carefull...  \n",
      "2   after the asymptotes. instructions cajole aft...  \n",
      "3  st the furiously bold pinto beans. furiously p...  \n",
      "4  onic requests. carefully daring foxes among th...  \n",
      "\n",
      "\n"
     ]
    }
   ],
   "source": [
    "extracted_data = de_pipeline.extract()\n",
    "for table_name, df in extracted_data.items():\n",
    "    print(f\"Table: {table_name} | Shape: {df.shape}\")\n",
    "    print(df.head())\n",
    "    print(\"\\n\")"
   ]
  },
  {
   "cell_type": "code",
   "execution_count": 4,
   "id": "a02ca55f",
   "metadata": {},
   "outputs": [
    {
     "name": "stdout",
     "output_type": "stream",
     "text": [
      "Table: urgent_order_details | Shape: (1738, 17)\n",
      "   o_orderkey  o_custkey o_orderstatus  o_totalprice o_orderdate  \\\n",
      "0           2        781             O      38426.09  1996-12-01   \n",
      "1          65        163             P      95469.44  1995-03-18   \n",
      "2         128        740             F      34997.04  1992-06-15   \n",
      "3         133        440             O      95971.06  1997-11-29   \n",
      "4         193        791             F      80834.26  1993-08-08   \n",
      "\n",
      "  o_orderpriority          o_clerk  o_shippriority  \\\n",
      "0        1-URGENT  Clerk#000000880               0   \n",
      "1        1-URGENT  Clerk#000000632               0   \n",
      "2        1-URGENT  Clerk#000000385               0   \n",
      "3        1-URGENT  Clerk#000000738               0   \n",
      "4        1-URGENT  Clerk#000000025               0   \n",
      "\n",
      "                                           o_comment  c_custkey  \\\n",
      "0  ve the furiously fluffy dependencies. carefull...        781   \n",
      "1  ounts sleep against the regular foxes. deposit...        163   \n",
      "2  uriously unusual attainments sleep. furiously ...        740   \n",
      "3                             yly even requests. car        440   \n",
      "4                            p furiously alongside o        791   \n",
      "\n",
      "               c_name                               c_address  c_nationkey  \\\n",
      "0  Customer#000000781              maoqGuL5,rHfX0leqZcFqHqpQH           18   \n",
      "1  Customer#000000163                          dK kOdDEWvKN,L           21   \n",
      "2  Customer#000000740      moM kCzLz4rzp a8tANsfu6aDQaMEPkgkK           10   \n",
      "3  Customer#000000440  wWLgeLIpxkF50DfETdKhGZnC65vdae6SsrrW09            3   \n",
      "4  Customer#000000791                     Y14aVvMuDDgnmEuCEPK           13   \n",
      "\n",
      "           c_phone  c_acctbal c_mktsegment  \\\n",
      "0  28-478-388-5881    6403.62    MACHINERY   \n",
      "1  31-863-349-4121    2948.61    FURNITURE   \n",
      "2  20-215-156-3727    1733.76     BUILDING   \n",
      "3  13-244-480-5751    1809.04    MACHINERY   \n",
      "4  23-575-775-4059    3694.81    HOUSEHOLD   \n",
      "\n",
      "                                           c_comment  \n",
      "0  ld packages detect against the slyly ironic pl...  \n",
      "1   ins cajole fluffily carefully final requests. ca  \n",
      "2                ecial requests around the quickly f  \n",
      "3  d final excuses. quickly unusual excuses sleep...  \n",
      "4  beans use carefully furiously regular deposits...  \n",
      "\n",
      "\n"
     ]
    }
   ],
   "source": [
    "transformed_data = de_pipeline.transform(extracted_data)\n",
    "for table_name, df in transformed_data.items():\n",
    "    print(f\"Table: {table_name} | Shape: {df.shape}\")\n",
    "    print(df.head())\n",
    "    print(\"\\n\")"
   ]
  }
 ],
 "metadata": {
  "kernelspec": {
   "display_name": "clearpandas-kernel",
   "language": "python",
   "name": "clearpandas-kernel"
  },
  "language_info": {
   "codemirror_mode": {
    "name": "ipython",
    "version": 3
   },
   "file_extension": ".py",
   "mimetype": "text/x-python",
   "name": "python",
   "nbconvert_exporter": "python",
   "pygments_lexer": "ipython3",
   "version": "3.12.1"
  }
 },
 "nbformat": 4,
 "nbformat_minor": 5
}
