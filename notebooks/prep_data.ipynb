{
 "cells": [
  {
   "cell_type": "code",
   "execution_count": 1,
   "id": "77cb836b",
   "metadata": {},
   "outputs": [],
   "source": [
    "import duckdb\n",
    "import os"
   ]
  },
  {
   "cell_type": "code",
   "execution_count": 2,
   "id": "6addfd96",
   "metadata": {},
   "outputs": [
    {
     "data": {
      "text/plain": [
       "['.git',\n",
       " 'requirements.in',\n",
       " 'notebooks',\n",
       " 'requirements.txt',\n",
       " 'clearpandas',\n",
       " 'scripts',\n",
       " 'README.md',\n",
       " 'LICENSE',\n",
       " 'data',\n",
       " '.gitignore']"
      ]
     },
     "execution_count": 2,
     "metadata": {},
     "output_type": "execute_result"
    }
   ],
   "source": [
    "os.chdir('..')\n",
    "os.listdir()"
   ]
  },
  {
   "cell_type": "code",
   "execution_count": 3,
   "id": "2c226cc3",
   "metadata": {},
   "outputs": [
    {
     "data": {
      "text/plain": [
       "<duckdb.duckdb.DuckDBPyConnection at 0x72cabc708cb0>"
      ]
     },
     "execution_count": 3,
     "metadata": {},
     "output_type": "execute_result"
    }
   ],
   "source": [
    "con = duckdb.connect()\n",
    "con.execute(\"INSTALL tpch; LOAD tpch;\")\n",
    "con.execute(\"CALL dbgen(sf=0.01);\")"
   ]
  },
  {
   "cell_type": "code",
   "execution_count": 4,
   "id": "436c5bcf",
   "metadata": {},
   "outputs": [
    {
     "name": "stdout",
     "output_type": "stream",
     "text": [
      "Number of customers: 1500\n"
     ]
    },
    {
     "data": {
      "text/html": [
       "<div>\n",
       "<style scoped>\n",
       "    .dataframe tbody tr th:only-of-type {\n",
       "        vertical-align: middle;\n",
       "    }\n",
       "\n",
       "    .dataframe tbody tr th {\n",
       "        vertical-align: top;\n",
       "    }\n",
       "\n",
       "    .dataframe thead th {\n",
       "        text-align: right;\n",
       "    }\n",
       "</style>\n",
       "<table border=\"1\" class=\"dataframe\">\n",
       "  <thead>\n",
       "    <tr style=\"text-align: right;\">\n",
       "      <th></th>\n",
       "      <th>c_custkey</th>\n",
       "      <th>c_name</th>\n",
       "      <th>c_address</th>\n",
       "      <th>c_nationkey</th>\n",
       "      <th>c_phone</th>\n",
       "      <th>c_acctbal</th>\n",
       "      <th>c_mktsegment</th>\n",
       "      <th>c_comment</th>\n",
       "    </tr>\n",
       "  </thead>\n",
       "  <tbody>\n",
       "    <tr>\n",
       "      <th>0</th>\n",
       "      <td>1</td>\n",
       "      <td>Customer#000000001</td>\n",
       "      <td>j5JsirBM9PsCy0O1m</td>\n",
       "      <td>15</td>\n",
       "      <td>25-989-741-2988</td>\n",
       "      <td>711.56</td>\n",
       "      <td>BUILDING</td>\n",
       "      <td>y final requests wake slyly quickly special ac...</td>\n",
       "    </tr>\n",
       "    <tr>\n",
       "      <th>1</th>\n",
       "      <td>2</td>\n",
       "      <td>Customer#000000002</td>\n",
       "      <td>487LW1dovn6Q4dMVymKwwLE9OKf3QG</td>\n",
       "      <td>13</td>\n",
       "      <td>23-768-687-3665</td>\n",
       "      <td>121.65</td>\n",
       "      <td>AUTOMOBILE</td>\n",
       "      <td>y carefully regular foxes. slyly regular reque...</td>\n",
       "    </tr>\n",
       "    <tr>\n",
       "      <th>2</th>\n",
       "      <td>3</td>\n",
       "      <td>Customer#000000003</td>\n",
       "      <td>fkRGN8nY4pkE</td>\n",
       "      <td>1</td>\n",
       "      <td>11-719-748-3364</td>\n",
       "      <td>7498.12</td>\n",
       "      <td>AUTOMOBILE</td>\n",
       "      <td>fully. carefully silent instructions sleep alo...</td>\n",
       "    </tr>\n",
       "    <tr>\n",
       "      <th>3</th>\n",
       "      <td>4</td>\n",
       "      <td>Customer#000000004</td>\n",
       "      <td>4u58h fqkyE</td>\n",
       "      <td>4</td>\n",
       "      <td>14-128-190-5944</td>\n",
       "      <td>2866.83</td>\n",
       "      <td>MACHINERY</td>\n",
       "      <td>sublate. fluffily even instructions are about th</td>\n",
       "    </tr>\n",
       "    <tr>\n",
       "      <th>4</th>\n",
       "      <td>5</td>\n",
       "      <td>Customer#000000005</td>\n",
       "      <td>hwBtxkoBF qSW4KrIk5U 2B1AU7H</td>\n",
       "      <td>3</td>\n",
       "      <td>13-750-942-6364</td>\n",
       "      <td>794.47</td>\n",
       "      <td>HOUSEHOLD</td>\n",
       "      <td>equests haggle furiously against the pending p...</td>\n",
       "    </tr>\n",
       "  </tbody>\n",
       "</table>\n",
       "</div>"
      ],
      "text/plain": [
       "   c_custkey              c_name                       c_address  c_nationkey  \\\n",
       "0          1  Customer#000000001               j5JsirBM9PsCy0O1m           15   \n",
       "1          2  Customer#000000002  487LW1dovn6Q4dMVymKwwLE9OKf3QG           13   \n",
       "2          3  Customer#000000003                    fkRGN8nY4pkE            1   \n",
       "3          4  Customer#000000004                     4u58h fqkyE            4   \n",
       "4          5  Customer#000000005    hwBtxkoBF qSW4KrIk5U 2B1AU7H            3   \n",
       "\n",
       "           c_phone  c_acctbal c_mktsegment  \\\n",
       "0  25-989-741-2988     711.56     BUILDING   \n",
       "1  23-768-687-3665     121.65   AUTOMOBILE   \n",
       "2  11-719-748-3364    7498.12   AUTOMOBILE   \n",
       "3  14-128-190-5944    2866.83    MACHINERY   \n",
       "4  13-750-942-6364     794.47    HOUSEHOLD   \n",
       "\n",
       "                                           c_comment  \n",
       "0  y final requests wake slyly quickly special ac...  \n",
       "1  y carefully regular foxes. slyly regular reque...  \n",
       "2  fully. carefully silent instructions sleep alo...  \n",
       "3   sublate. fluffily even instructions are about th  \n",
       "4  equests haggle furiously against the pending p...  "
      ]
     },
     "execution_count": 4,
     "metadata": {},
     "output_type": "execute_result"
    }
   ],
   "source": [
    "customers_df = con.execute(\"SELECT * FROM customer\").df()\n",
    "file_path = 'data/customers.csv'\n",
    "customers_df.to_csv(file_path, index=False)\n",
    "\n",
    "print (f\"Number of customers: {len(customers_df)}\")\n",
    "customers_df.head()"
   ]
  },
  {
   "cell_type": "code",
   "execution_count": 5,
   "id": "5e0ecc07",
   "metadata": {},
   "outputs": [
    {
     "name": "stdout",
     "output_type": "stream",
     "text": [
      "Number of orders: 15000\n"
     ]
    },
    {
     "data": {
      "text/html": [
       "<div>\n",
       "<style scoped>\n",
       "    .dataframe tbody tr th:only-of-type {\n",
       "        vertical-align: middle;\n",
       "    }\n",
       "\n",
       "    .dataframe tbody tr th {\n",
       "        vertical-align: top;\n",
       "    }\n",
       "\n",
       "    .dataframe thead th {\n",
       "        text-align: right;\n",
       "    }\n",
       "</style>\n",
       "<table border=\"1\" class=\"dataframe\">\n",
       "  <thead>\n",
       "    <tr style=\"text-align: right;\">\n",
       "      <th></th>\n",
       "      <th>o_orderkey</th>\n",
       "      <th>o_custkey</th>\n",
       "      <th>o_orderstatus</th>\n",
       "      <th>o_totalprice</th>\n",
       "      <th>o_orderdate</th>\n",
       "      <th>o_orderpriority</th>\n",
       "      <th>o_clerk</th>\n",
       "      <th>o_shippriority</th>\n",
       "      <th>o_comment</th>\n",
       "    </tr>\n",
       "  </thead>\n",
       "  <tbody>\n",
       "    <tr>\n",
       "      <th>0</th>\n",
       "      <td>1</td>\n",
       "      <td>370</td>\n",
       "      <td>O</td>\n",
       "      <td>172799.49</td>\n",
       "      <td>1996-01-02</td>\n",
       "      <td>5-LOW</td>\n",
       "      <td>Clerk#000000951</td>\n",
       "      <td>0</td>\n",
       "      <td>ly express platelets. deposits acc</td>\n",
       "    </tr>\n",
       "    <tr>\n",
       "      <th>1</th>\n",
       "      <td>2</td>\n",
       "      <td>781</td>\n",
       "      <td>O</td>\n",
       "      <td>38426.09</td>\n",
       "      <td>1996-12-01</td>\n",
       "      <td>1-URGENT</td>\n",
       "      <td>Clerk#000000880</td>\n",
       "      <td>0</td>\n",
       "      <td>ve the furiously fluffy dependencies. carefull...</td>\n",
       "    </tr>\n",
       "    <tr>\n",
       "      <th>2</th>\n",
       "      <td>3</td>\n",
       "      <td>1234</td>\n",
       "      <td>F</td>\n",
       "      <td>205654.30</td>\n",
       "      <td>1993-10-14</td>\n",
       "      <td>5-LOW</td>\n",
       "      <td>Clerk#000000955</td>\n",
       "      <td>0</td>\n",
       "      <td>after the asymptotes. instructions cajole aft...</td>\n",
       "    </tr>\n",
       "    <tr>\n",
       "      <th>3</th>\n",
       "      <td>4</td>\n",
       "      <td>1369</td>\n",
       "      <td>O</td>\n",
       "      <td>56000.91</td>\n",
       "      <td>1995-10-11</td>\n",
       "      <td>5-LOW</td>\n",
       "      <td>Clerk#000000124</td>\n",
       "      <td>0</td>\n",
       "      <td>st the furiously bold pinto beans. furiously p...</td>\n",
       "    </tr>\n",
       "    <tr>\n",
       "      <th>4</th>\n",
       "      <td>5</td>\n",
       "      <td>445</td>\n",
       "      <td>F</td>\n",
       "      <td>105367.67</td>\n",
       "      <td>1994-07-30</td>\n",
       "      <td>5-LOW</td>\n",
       "      <td>Clerk#000000925</td>\n",
       "      <td>0</td>\n",
       "      <td>onic requests. carefully daring foxes among th...</td>\n",
       "    </tr>\n",
       "  </tbody>\n",
       "</table>\n",
       "</div>"
      ],
      "text/plain": [
       "   o_orderkey  o_custkey o_orderstatus  o_totalprice o_orderdate  \\\n",
       "0           1        370             O     172799.49  1996-01-02   \n",
       "1           2        781             O      38426.09  1996-12-01   \n",
       "2           3       1234             F     205654.30  1993-10-14   \n",
       "3           4       1369             O      56000.91  1995-10-11   \n",
       "4           5        445             F     105367.67  1994-07-30   \n",
       "\n",
       "  o_orderpriority          o_clerk  o_shippriority  \\\n",
       "0           5-LOW  Clerk#000000951               0   \n",
       "1        1-URGENT  Clerk#000000880               0   \n",
       "2           5-LOW  Clerk#000000955               0   \n",
       "3           5-LOW  Clerk#000000124               0   \n",
       "4           5-LOW  Clerk#000000925               0   \n",
       "\n",
       "                                           o_comment  \n",
       "0                 ly express platelets. deposits acc  \n",
       "1  ve the furiously fluffy dependencies. carefull...  \n",
       "2   after the asymptotes. instructions cajole aft...  \n",
       "3  st the furiously bold pinto beans. furiously p...  \n",
       "4  onic requests. carefully daring foxes among th...  "
      ]
     },
     "execution_count": 5,
     "metadata": {},
     "output_type": "execute_result"
    }
   ],
   "source": [
    "orders_df = con.execute(\"SELECT * FROM orders\").df()\n",
    "file_path = 'data/orders.csv'\n",
    "orders_df.to_csv(file_path, index=False)\n",
    "\n",
    "print (f\"Number of orders: {len(orders_df)}\")\n",
    "orders_df.head()"
   ]
  }
 ],
 "metadata": {
  "kernelspec": {
   "display_name": "clearpandas-kernel",
   "language": "python",
   "name": "clearpandas-kernel"
  },
  "language_info": {
   "codemirror_mode": {
    "name": "ipython",
    "version": 3
   },
   "file_extension": ".py",
   "mimetype": "text/x-python",
   "name": "python",
   "nbconvert_exporter": "python",
   "pygments_lexer": "ipython3",
   "version": "3.12.1"
  }
 },
 "nbformat": 4,
 "nbformat_minor": 5
}
